{
 "cells": [
  {
   "cell_type": "code",
   "execution_count": 1,
   "id": "18d33d7f-c76c-443f-a55c-9e7d99ffab4d",
   "metadata": {},
   "outputs": [],
   "source": [
    "import numpy as np"
   ]
  },
  {
   "cell_type": "code",
   "execution_count": 2,
   "id": "f17f0b00-e829-4ab3-95bc-bc089044525e",
   "metadata": {},
   "outputs": [],
   "source": [
    "class LogisticRegression():\n",
    "    def __init__(self, numLayers=2, layerSizes=np.array([3,32,32,1]), alpha=1):\n",
    "        # Generate random seed (currently static for testing)\n",
    "        np.random.seed(1)\n",
    "        \n",
    "        self.synapticWeights = []\n",
    "        self.numLayers = numLayers\n",
    "        self.alpha = alpha\n",
    "        \n",
    "        # Generate a matrix to store our synaptic weights\n",
    "        for layer in range(numLayers+1):\n",
    "            self.synapticWeights.append(2 * np.random.random((layerSizes[layer],layerSizes[layer+1])) - 1)\n",
    "        \n",
    "    def sigmoid(self, x):\n",
    "        return 1 / (1 + np.exp(-x))\n",
    "    \n",
    "    def sigmoid_deriv(self, x):\n",
    "        return x * (1 - x)\n",
    "    \n",
    "    def train(self, X, y, iterations):\n",
    "        \n",
    "        #print(\"Initial Weights:\")\n",
    "        #print(self.synapticWeights[0])\n",
    "        #print(self.synapticWeights[1])\n",
    "        \n",
    "        alpha = self.alpha\n",
    "        print(\"Training for Alpha: \" + str(alpha))\n",
    "        \n",
    "        # begin iteration loop\n",
    "        for i in range(iterations):\n",
    "            \n",
    "            nextInput = X\n",
    "    \n",
    "            #print(X)\n",
    "            #print(self.synapticWeights[0])\n",
    "            #print(np.dot(X,self.synapticWeights[0]))\n",
    "            \n",
    "            if self.numLayers == 0:\n",
    "                output = self.think(X,0)\n",
    "                error = y - output\n",
    "                self.synapticWeights[0] += alpha*(np.dot(X.T, error * self.sigmoid_deriv(output)))\n",
    "            \n",
    "            else:\n",
    "                layers = []\n",
    "                deltas = []\n",
    "                # feed-forward through all layers\n",
    "                for layer in range(self.numLayers+1):\n",
    "                    layers.append(self.think(nextInput, layer))\n",
    "                    nextInput = layers[layer]\n",
    "                    \n",
    "                #print(\"Layers:\")\n",
    "                #print(layers[0])\n",
    "                #print(layers[self.numLayers])\n",
    "              \n",
    "                #Calculate error on output layer\n",
    "                deltas.append((y - layers[self.numLayers])*self.sigmoid_deriv(layers[self.numLayers]))\n",
    "                \n",
    "                if i % 10000 == 0:\n",
    "                    print(\"Error after \"+str(i)+\" iterations:\" + str(np.mean(np.abs(y - layers[self.numLayers]))))\n",
    "            \n",
    "                # Back-propagate deltas\n",
    "                for layer in range(self.numLayers,0,-1):\n",
    "                    deltas.append(deltas[layer-self.numLayers].dot(self.synapticWeights[layer].T)*self.sigmoid_deriv(layers[layer-1]))\n",
    "            \n",
    "                #print(deltas[0])\n",
    "                #print(deltas[1])\n",
    "                #print(X.T.dot(deltas[self.numLayers-0]))\n",
    "                #print(layers[self.numLayers-1])\n",
    "                #print(deltas[self.numLayers-1])\n",
    "                #print(layers[self.numLayers-1].T.dot(deltas[self.numLayers-1]))\n",
    "            \n",
    "                # Update synaptic weights\n",
    "                for layer in range(self.numLayers,-1,-1):\n",
    "                    if layer == 0:\n",
    "                        self.synapticWeights[layer] += alpha * (X.T.dot(deltas[self.numLayers-layer]))\n",
    "                    else:\n",
    "                        self.synapticWeights[layer] += alpha * (layers[self.numLayers-layer].T.dot(deltas[self.numLayers-layer]))\n",
    "                \n",
    "                #print(\"Updated Weights\")\n",
    "                #print(self.synapticWeights[0])\n",
    "                #print(self.synapticWeights[1])\n",
    "    \n",
    "    def think(self, inputs, layer):\n",
    "        inputs = inputs.astype(float)\n",
    "        output = self.sigmoid(np.dot(inputs, self.synapticWeights[layer]))\n",
    "        return output\n",
    "    \n",
    "    def predict(self, inputs):\n",
    "        inputs = inputs.astype(float)\n",
    "        for layer in range(self.numLayers+1):\n",
    "            inputs = self.sigmoid(np.dot(inputs, self.synapticWeights[layer]))\n",
    "            \n",
    "        return inputs\n",
    "            \n",
    "    "
   ]
  },
  {
   "cell_type": "code",
   "execution_count": 4,
   "id": "cae8bd89-37c5-42a6-b4b0-ab1c1442cfe5",
   "metadata": {},
   "outputs": [
    {
     "name": "stdout",
     "output_type": "stream",
     "text": [
      "Training for Alpha: 1\n",
      "Error after 0 iterations:0.47793740642165283\n",
      "Error after 10000 iterations:0.002851057775097378\n",
      "Error after 20000 iterations:0.0019374006866744232\n",
      "Error after 30000 iterations:0.0015465786162373082\n",
      "Error after 40000 iterations:0.0013186358207243004\n",
      "Error after 50000 iterations:0.0011655731961172009\n"
     ]
    },
    {
     "data": {
      "text/plain": [
       "array([0.99966168])"
      ]
     },
     "execution_count": 4,
     "metadata": {},
     "output_type": "execute_result"
    }
   ],
   "source": [
    "layerSizes = np.array([3,64,64,1])\n",
    "test = LogisticRegression()\n",
    "test_inputs = np.array([[0,0,1],[0,1,1],[1,0,1],[1,1,1]])\n",
    "test_outputs = np.array([[0,0,1,1]]).T\n",
    "test.train(test_inputs,test_outputs,60000)\n",
    "test.predict(np.array([1,0,0]))"
   ]
  },
  {
   "cell_type": "code",
   "execution_count": null,
   "id": "384076c5-fb9e-46c9-9ce2-1d49add3e4c6",
   "metadata": {},
   "outputs": [],
   "source": []
  },
  {
   "cell_type": "code",
   "execution_count": null,
   "id": "e87f4414-9e52-4984-97fe-323a2ac3a96c",
   "metadata": {},
   "outputs": [],
   "source": []
  },
  {
   "cell_type": "code",
   "execution_count": null,
   "id": "e6f4e572-67b7-425f-a744-e77d14312542",
   "metadata": {},
   "outputs": [],
   "source": []
  }
 ],
 "metadata": {
  "kernelspec": {
   "display_name": "Python 3",
   "language": "python",
   "name": "python3"
  },
  "language_info": {
   "codemirror_mode": {
    "name": "ipython",
    "version": 3
   },
   "file_extension": ".py",
   "mimetype": "text/x-python",
   "name": "python",
   "nbconvert_exporter": "python",
   "pygments_lexer": "ipython3",
   "version": "3.8.8"
  }
 },
 "nbformat": 4,
 "nbformat_minor": 5
}
