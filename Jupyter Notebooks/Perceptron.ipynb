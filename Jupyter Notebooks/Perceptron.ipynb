{
 "cells": [
  {
   "cell_type": "code",
   "execution_count": 1,
   "id": "194cd7d7-1690-498e-959b-3a49c361a4ef",
   "metadata": {},
   "outputs": [],
   "source": [
    "import numpy as np"
   ]
  },
  {
   "cell_type": "code",
   "execution_count": 128,
   "id": "00418266-3deb-490e-b3f6-20ba12279999",
   "metadata": {},
   "outputs": [],
   "source": [
    "class Perceptron():\n",
    "    def __init__(self, learningRate, nEpochs, train_X, train_y):\n",
    "        # Generate random seed (currently static for testing)\n",
    "        np.random.seed(1)\n",
    "        \n",
    "        nFeatures = X.shape[1]\n",
    "        self.weights = np.array([])\n",
    "        self.nEpochs = nEpochs\n",
    "        self.learningRate = learningRate\n",
    "        \n",
    "        # Generate random weight array (is this necessary or can we start with zero weights?)\n",
    "        for i in range(nFeatures+1):\n",
    "            #self.weights = np.append(self.weights,2*np.random.random()-1)\n",
    "            self.weights = np.append(self.weights,0.0)\n",
    "            \n",
    "    def predict(self,X):\n",
    "        fire = self.weights[0]\n",
    "        fire += np.dot(X,self.weights[1:])\n",
    "        return 1.0 if fire >= 0.0 else 0.0\n",
    "        \n",
    "    def train(self,X,y):\n",
    "        for epoch in range(self.nEpochs):\n",
    "            sumError = 0.0\n",
    "            for i in range(X.shape[0]):\n",
    "                prediction = self.predict(X[i])\n",
    "                error = y[i] - prediction\n",
    "                sumError += error**2\n",
    "                self.weights[0] += self.learningRate * error\n",
    "                for j in range(1,X.shape[1]+1):\n",
    "                    self.weights[j] = self.weights[j] + self.learningRate * error * X[i,j-1]\n",
    "            #print(\"Epoch = %d, learningRate = %.3f, Error = %.3f\" % (epoch, self.learningRate, sumError))\n",
    "        \n",
    "    "
   ]
  },
  {
   "cell_type": "code",
   "execution_count": 129,
   "id": "ce402880-2cc4-4c26-b5af-a12f69359dbd",
   "metadata": {},
   "outputs": [],
   "source": [
    "X=np.array([[0,0,1],[0,1,1],[1,0,1],[1,1,1]])\n",
    "y=np.array([0,0,1,1])\n",
    "test = Perceptron(0.1,100,X,y)\n",
    "test.train(X,y)"
   ]
  },
  {
   "cell_type": "code",
   "execution_count": 130,
   "id": "b2af0a0f-7b59-4c3f-b67d-75d31fb7bbfe",
   "metadata": {},
   "outputs": [
    {
     "data": {
      "text/plain": [
       "1.0"
      ]
     },
     "execution_count": 130,
     "metadata": {},
     "output_type": "execute_result"
    }
   ],
   "source": [
    "test.predict(np.array([1,0,0]))"
   ]
  },
  {
   "cell_type": "code",
   "execution_count": 24,
   "id": "563234c6-94ea-470d-9bd6-59d960680de8",
   "metadata": {},
   "outputs": [
    {
     "data": {
      "text/plain": [
       "array([ 0.44064899, -0.99977125])"
      ]
     },
     "execution_count": 24,
     "metadata": {},
     "output_type": "execute_result"
    }
   ],
   "source": [
    "test.weights[1:]"
   ]
  },
  {
   "cell_type": "code",
   "execution_count": 30,
   "id": "fbde3a86-e112-469f-b0c3-9e9ea60fb938",
   "metadata": {},
   "outputs": [],
   "source": [
    "inputs = np.array([2.7810836,2.550537003])"
   ]
  },
  {
   "cell_type": "code",
   "execution_count": 37,
   "id": "7bd4877f-7524-497e-bdfd-eb036d761442",
   "metadata": {},
   "outputs": [
    {
     "data": {
      "text/plain": [
       "-1.3244718978117143"
      ]
     },
     "execution_count": 37,
     "metadata": {},
     "output_type": "execute_result"
    }
   ],
   "source": [
    "np.dot(inputs,test.weights[1:])"
   ]
  },
  {
   "cell_type": "code",
   "execution_count": 69,
   "id": "20bb3ac6-d4f2-4158-a8c7-0e9958d88501",
   "metadata": {},
   "outputs": [
    {
     "data": {
      "text/plain": [
       "0.0"
      ]
     },
     "execution_count": 69,
     "metadata": {},
     "output_type": "execute_result"
    }
   ],
   "source": [
    "test.predict(inputs)"
   ]
  },
  {
   "cell_type": "code",
   "execution_count": 38,
   "id": "92b5c9ee-cf67-4ebd-9680-11dc3c3fe26b",
   "metadata": {},
   "outputs": [],
   "source": [
    "dataset = np.array([[2.7810836,2.550537003,0],\n",
    "[1.465489372,2.362125076,0],\n",
    "[3.396561688,4.400293529,0],\n",
    "[1.38807019,1.850220317,0],\n",
    "[3.06407232,3.005305973,0],\n",
    "[7.627531214,2.759262235,1],\n",
    "[5.332441248,2.088626775,1],\n",
    "[6.922596716,1.77106367,1],\n",
    "[8.675418651,-0.242068655,1],\n",
    "[7.673756466,3.508563011,1]])"
   ]
  },
  {
   "cell_type": "code",
   "execution_count": 45,
   "id": "75e15926-affb-4213-8df5-a152697c9d9c",
   "metadata": {},
   "outputs": [],
   "source": [
    "X = dataset[:,:-1]\n",
    "y = dataset[:,-1]"
   ]
  },
  {
   "cell_type": "code",
   "execution_count": 103,
   "id": "063f0713-ae9b-453f-bb4b-8e22b9bc148f",
   "metadata": {},
   "outputs": [
    {
     "data": {
      "text/plain": [
       "array([0., 0., 0., 0., 0., 1., 1., 1., 1., 1.])"
      ]
     },
     "execution_count": 103,
     "metadata": {},
     "output_type": "execute_result"
    }
   ],
   "source": [
    "y"
   ]
  },
  {
   "cell_type": "code",
   "execution_count": 79,
   "id": "7a8a9b0b-366c-4205-8558-da3fa7f4c627",
   "metadata": {},
   "outputs": [
    {
     "data": {
      "text/plain": [
       "2"
      ]
     },
     "execution_count": 79,
     "metadata": {},
     "output_type": "execute_result"
    }
   ],
   "source": [
    "X.shape[1]"
   ]
  },
  {
   "cell_type": "code",
   "execution_count": 58,
   "id": "4cbdea51-8f53-4f20-b597-4da98ceda45a",
   "metadata": {},
   "outputs": [
    {
     "data": {
      "text/plain": [
       "array([2.7810836, 2.550537 ])"
      ]
     },
     "execution_count": 58,
     "metadata": {},
     "output_type": "execute_result"
    }
   ],
   "source": [
    "X[0]"
   ]
  },
  {
   "cell_type": "code",
   "execution_count": 64,
   "id": "285d73b1-a050-41c0-aa67-55c07d7eee79",
   "metadata": {},
   "outputs": [
    {
     "data": {
      "text/plain": [
       "0.0"
      ]
     },
     "execution_count": 64,
     "metadata": {},
     "output_type": "execute_result"
    }
   ],
   "source": [
    "test.predict(X[1])"
   ]
  },
  {
   "cell_type": "code",
   "execution_count": 96,
   "id": "c9ee677a-51df-491a-919b-78c342172174",
   "metadata": {},
   "outputs": [
    {
     "name": "stdout",
     "output_type": "stream",
     "text": [
      "Epoch = 0, learningRate = 0.100, Error = 1.000\n",
      "Epoch = 1, learningRate = 0.100, Error = 1.000\n",
      "Epoch = 2, learningRate = 0.100, Error = 1.000\n",
      "Epoch = 3, learningRate = 0.100, Error = 0.000\n",
      "Epoch = 4, learningRate = 0.100, Error = 0.000\n"
     ]
    }
   ],
   "source": [
    "test.train(X,y)"
   ]
  },
  {
   "cell_type": "code",
   "execution_count": 87,
   "id": "af04040a-5a16-46d4-89f2-10a6d5cdd8dd",
   "metadata": {},
   "outputs": [
    {
     "data": {
      "text/plain": [
       "array([1.46548937, 2.36212508])"
      ]
     },
     "execution_count": 87,
     "metadata": {},
     "output_type": "execute_result"
    }
   ],
   "source": [
    "X"
   ]
  },
  {
   "cell_type": "code",
   "execution_count": 93,
   "id": "76f4ba50-c674-4767-9622-2e8a5f9e6142",
   "metadata": {},
   "outputs": [
    {
     "name": "stdout",
     "output_type": "stream",
     "text": [
      "[-0.26595599  0.65180791 -1.15902235]\n"
     ]
    }
   ],
   "source": [
    "print(test.weights)"
   ]
  },
  {
   "cell_type": "code",
   "execution_count": 123,
   "id": "3b7e0735-2be4-4038-8839-c6b82888dfaa",
   "metadata": {},
   "outputs": [
    {
     "data": {
      "text/plain": [
       "3"
      ]
     },
     "execution_count": 123,
     "metadata": {},
     "output_type": "execute_result"
    }
   ],
   "source": []
  },
  {
   "cell_type": "code",
   "execution_count": null,
   "id": "ab7cbf98-9c31-48b2-9346-a17265c01618",
   "metadata": {},
   "outputs": [],
   "source": []
  }
 ],
 "metadata": {
  "kernelspec": {
   "display_name": "Python 3",
   "language": "python",
   "name": "python3"
  },
  "language_info": {
   "codemirror_mode": {
    "name": "ipython",
    "version": 3
   },
   "file_extension": ".py",
   "mimetype": "text/x-python",
   "name": "python",
   "nbconvert_exporter": "python",
   "pygments_lexer": "ipython3",
   "version": "3.8.8"
  }
 },
 "nbformat": 4,
 "nbformat_minor": 5
}
