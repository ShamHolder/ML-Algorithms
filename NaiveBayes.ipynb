{
 "cells": [
  {
   "cell_type": "code",
   "execution_count": 69,
   "id": "54143733-f02b-4de1-8ad0-84ebda8ccc1a",
   "metadata": {},
   "outputs": [],
   "source": [
    "import numpy as np\n",
    "from math import sqrt\n",
    "from math import pi\n",
    "from math import exp\n",
    "\n",
    "class NaiveBayes():\n",
    "    def __init__(self, train, test):\n",
    "        summary = summarizeByClass(train)\n",
    "        predictions = list()\n",
    "        for row in test:\n",
    "            predicitons.append(predict(summary, row))\n",
    "        return predictions\n",
    "    \n",
    "    def predict(self, summary, row):\n",
    "        probabiities = calcClassProbability(summary, row)\n",
    "        bestLabel, bestProb = None, -1\n",
    "        for classValue, probability in probabilities.items():\n",
    "            if bestLabel is None or probability > bestProb:\n",
    "                bestProb = probability\n",
    "                bestLabel = classValue\n",
    "        return bestLabel\n",
    "    \n",
    "    def classSeparate(self, dataset):\n",
    "        separated = dict()\n",
    "        for i in range(len(dataset)):\n",
    "            vector = dataset[i]\n",
    "            classValue = vector[-1]\n",
    "            if (classValue not in separated):\n",
    "                separated[classValue] = list()\n",
    "            separated[classValue].append(vector)\n",
    "        return separated\n",
    "    \n",
    "    def summarizeDataset(self, dataset):\n",
    "        summaries = [(mean(col), stdDev(col), len(col)) for col in zip(*dataset)]\n",
    "        del(summaries[-1])\n",
    "        return summaries\n",
    "    \n",
    "    def summarizeByClass(self, dataset):\n",
    "        separated = self.classSeparate(dataset)\n",
    "        summaries = dict()\n",
    "        for classValue, row in separated.items():\n",
    "            summaries[classValue] = self.summarizeDataset(row)\n",
    "        return summaries\n",
    "    \n",
    "    def calcClassProbability(self, summaries, row):\n",
    "        totalRows = sum([summaries[label][0][-1] for label in summaries])\n",
    "        probabilities = dict()\n",
    "        for classValue, classSummaries in summaries.items():\n",
    "            probabilities[classValue] = summaries[classValue][0][-1] / float(totalRows)\n",
    "            for i in range(len(classSummaries)):\n",
    "                mean, stddev, count = classSummaries[i]\n",
    "                probabilities[classValue] *= calcGaussianProbability(row[i], mean, stddev)\n",
    "        return probabilities\n",
    "    \n",
    "def mean(data):\n",
    "    return sum(data)/float(len(data))\n",
    "\n",
    "def stdDev(data):\n",
    "    avg = mean(data)\n",
    "    variance = sum([(x-avg)**2 for x in data]) / float(len(data)-1)\n",
    "    return sqrt(variance)\n",
    "\n",
    "def calcGaussianProbability(x, mean, stddev):\n",
    "    return (1 / (sqrt(2*pi) * stddev)) * exp(-((x-mean)**2 / (2 * stddev**2)))"
   ]
  },
  {
   "cell_type": "code",
   "execution_count": 64,
   "id": "818319f4-fcab-4fee-a29d-fa812f630edc",
   "metadata": {},
   "outputs": [],
   "source": [
    "test = NaiveBayes()"
   ]
  },
  {
   "cell_type": "code",
   "execution_count": 5,
   "id": "23e4e076-5213-471f-8ceb-0fbb7a44bea1",
   "metadata": {},
   "outputs": [],
   "source": [
    "dataset = [[3.393533211,2.331273381,0],\n",
    "[3.110073483,1.781539638,0],\n",
    "[1.343808831,3.368360954,0],\n",
    "[3.582294042,4.67917911,0],\n",
    "[2.280362439,2.866990263,0],\n",
    "[7.423436942,4.696522875,1],\n",
    "[5.745051997,3.533989803,1],\n",
    "[9.172168622,2.511101045,1],\n",
    "[7.792783481,3.424088941,1],\n",
    "[7.939820817,0.791637231,1]]"
   ]
  },
  {
   "cell_type": "code",
   "execution_count": 43,
   "id": "c9be9ee3-d685-4017-961a-fc318bceb347",
   "metadata": {},
   "outputs": [
    {
     "data": {
      "text/plain": [
       "{0: [[3.393533211, 2.331273381, 0],\n",
       "  [3.110073483, 1.781539638, 0],\n",
       "  [1.343808831, 3.368360954, 0],\n",
       "  [3.582294042, 4.67917911, 0],\n",
       "  [2.280362439, 2.866990263, 0]],\n",
       " 1: [[7.423436942, 4.696522875, 1],\n",
       "  [5.745051997, 3.533989803, 1],\n",
       "  [9.172168622, 2.511101045, 1],\n",
       "  [7.792783481, 3.424088941, 1],\n",
       "  [7.939820817, 0.791637231, 1]]}"
      ]
     },
     "execution_count": 43,
     "metadata": {},
     "output_type": "execute_result"
    }
   ],
   "source": [
    "test_sep = test.classSeparate(dataset)\n",
    "test_sep"
   ]
  },
  {
   "cell_type": "code",
   "execution_count": 32,
   "id": "949a385a-b99a-45c0-8cc2-b63039f5f1a4",
   "metadata": {},
   "outputs": [
    {
     "data": {
      "text/plain": [
       "[(5.178333386499999, 2.7665845055177263, 10),\n",
       " (2.9984683241, 1.218556343617447, 10)]"
      ]
     },
     "execution_count": 32,
     "metadata": {},
     "output_type": "execute_result"
    }
   ],
   "source": [
    "test_summary = test.summarizeDataset(dataset)\n",
    "test_summary"
   ]
  },
  {
   "cell_type": "code",
   "execution_count": 56,
   "id": "2a2285e8-9143-4032-be99-68d6944f8e05",
   "metadata": {},
   "outputs": [
    {
     "data": {
      "text/plain": [
       "5"
      ]
     },
     "execution_count": 56,
     "metadata": {},
     "output_type": "execute_result"
    }
   ],
   "source": [
    "test_summary = test.summarizeByClass(dataset)\n",
    "test_summary[0][0][-1]"
   ]
  },
  {
   "cell_type": "code",
   "execution_count": 50,
   "id": "859e0866-773f-4962-8845-84efe003c4f2",
   "metadata": {},
   "outputs": [
    {
     "name": "stdout",
     "output_type": "stream",
     "text": [
      "0.3989422804014327\n",
      "0.24197072451914337\n",
      "0.24197072451914337\n"
     ]
    }
   ],
   "source": [
    "print(calculateGaussianProbability(1.0,1.0,1.0))\n",
    "print(calculateGaussianProbability(2.0,1.0,1.0))\n",
    "print(calculateGaussianProbability(0.0,1.0,1.0))"
   ]
  },
  {
   "cell_type": "code",
   "execution_count": 66,
   "id": "6fc1940c-3e05-4e25-8222-205f8d86adf3",
   "metadata": {},
   "outputs": [
    {
     "data": {
      "text/plain": [
       "{0: 0.05032427673372075, 1: 0.00011557718379945765}"
      ]
     },
     "execution_count": 66,
     "metadata": {},
     "output_type": "execute_result"
    }
   ],
   "source": [
    "probabilities = test.calcClassProbability(test_summary, dataset[0])\n",
    "probabilities"
   ]
  },
  {
   "cell_type": "code",
   "execution_count": null,
   "id": "ceb9feec-9bb5-41c3-9133-fc805ab56165",
   "metadata": {},
   "outputs": [],
   "source": []
  }
 ],
 "metadata": {
  "kernelspec": {
   "display_name": "Python 3",
   "language": "python",
   "name": "python3"
  },
  "language_info": {
   "codemirror_mode": {
    "name": "ipython",
    "version": 3
   },
   "file_extension": ".py",
   "mimetype": "text/x-python",
   "name": "python",
   "nbconvert_exporter": "python",
   "pygments_lexer": "ipython3",
   "version": "3.8.8"
  }
 },
 "nbformat": 4,
 "nbformat_minor": 5
}
