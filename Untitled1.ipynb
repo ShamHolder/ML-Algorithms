{
 "cells": [
  {
   "cell_type": "code",
   "execution_count": 48,
   "id": "fc8cea7f-9924-4b30-84c8-79e6f1aa9178",
   "metadata": {},
   "outputs": [
    {
     "name": "stdout",
     "output_type": "stream",
     "text": [
      "\n",
      "Training With Alpha:1\n",
      "Error after 0 iterations:0.49641003190272537\n",
      "Error after 10000 iterations:0.008584525653247153\n",
      "Error after 20000 iterations:0.005789459862507809\n",
      "Error after 30000 iterations:0.004629176776769984\n",
      "Error after 40000 iterations:0.003958765280273649\n",
      "Error after 50000 iterations:0.003510122567861676\n"
     ]
    }
   ],
   "source": [
    "import numpy as np\n",
    "\n",
    "alphas = [1]\n",
    "\n",
    "# compute sigmoid nonlinearity\n",
    "def sigmoid(x):\n",
    "    output = 1/(1+np.exp(-x))\n",
    "    return output\n",
    "\n",
    "# convert output of sigmoid function to its derivative\n",
    "def sigmoid_output_to_derivative(output):\n",
    "    return output*(1-output)\n",
    "    \n",
    "X = np.array([[0,0,1],\n",
    "            [0,1,1],\n",
    "            [1,0,1],\n",
    "            [1,1,1]])\n",
    "                \n",
    "y = np.array([[0],\n",
    "\t\t\t[1],\n",
    "\t\t\t[1],\n",
    "\t\t\t[0]])\n",
    "\n",
    "for alpha in alphas:\n",
    "    print(\"\\nTraining With Alpha:\" + str(alpha))\n",
    "    np.random.seed(1)\n",
    "\n",
    "    # randomly initialize our weights with mean 0\n",
    "    synapse_0 = 2*np.random.random((3,4)) - 1\n",
    "    synapse_1 = 2*np.random.random((4,1)) - 1\n",
    "    \n",
    "    #print(\"Initial Weights:\")\n",
    "    #print(synapse_0)\n",
    "    #print(synapse_1)\n",
    "\n",
    "    for j in range(60000):\n",
    "\n",
    "        # Feed forward through layers 0, 1, and 2\n",
    "        layer_0 = X\n",
    "        layer_1 = sigmoid(np.dot(layer_0,synapse_0))\n",
    "        layer_2 = sigmoid(np.dot(layer_1,synapse_1))\n",
    "        \n",
    "        #print(layer_0)\n",
    "        #print(synapse_0)\n",
    "        #print(np.dot(X,synapse_0))\n",
    "        \n",
    "        #print(\"Layers\")\n",
    "        #print(layer_1)\n",
    "        #print(layer_2)\n",
    "\n",
    "        # how much did we miss the target value?\n",
    "        layer_2_error = layer_2 - y\n",
    "        \n",
    "        if j % 10000 == 0:\n",
    "            print(\"Error after \"+str(j)+\" iterations:\" + str(np.mean(np.abs(layer_2_error))))\n",
    "\n",
    "        # in what direction is the target value?\n",
    "        # were we really sure? if so, don't change too much.\n",
    "        layer_2_delta = layer_2_error*sigmoid_output_to_derivative(layer_2)\n",
    "\n",
    "        # how much did each l1 value contribute to the l2 error (according to the weights)?\n",
    "        layer_1_error = layer_2_delta.dot(synapse_1.T)\n",
    "\n",
    "        # in what direction is the target l1?\n",
    "        # were we really sure? if so, don't change too much.\n",
    "        layer_1_delta = layer_1_error * sigmoid_output_to_derivative(layer_1)\n",
    "        \n",
    "        #print(layer_2_delta)\n",
    "        #print(layer_1_delta)\n",
    "        \n",
    "        #print(layer_0)\n",
    "        #print(layer_1_delta)\n",
    "        #print(layer_0.T.dot(layer_1_delta))\n",
    "        #print(layer_1)\n",
    "        #print(layer_2_delta)\n",
    "        #print(layer_1.T.dot(layer_2_delta))\n",
    "\n",
    "        synapse_1 -= alpha * (layer_1.T.dot(layer_2_delta))\n",
    "        synapse_0 -= alpha * (layer_0.T.dot(layer_1_delta))\n",
    "        \n",
    "        #print(\"Updated Weights:\")\n",
    "        #print(synapse_0)\n",
    "        #print(synapse_1)\n",
    "\n"
   ]
  },
  {
   "cell_type": "code",
   "execution_count": 13,
   "id": "7cfa1f0e-82a7-420f-b4d5-47fb8021d558",
   "metadata": {},
   "outputs": [
    {
     "data": {
      "text/plain": [
       "array([[ 0.00260572],\n",
       "       [-0.00327791],\n",
       "       [-0.00298289],\n",
       "       [ 0.00386759]])"
      ]
     },
     "execution_count": 13,
     "metadata": {},
     "output_type": "execute_result"
    }
   ],
   "source": [
    "layer_2_error"
   ]
  },
  {
   "cell_type": "code",
   "execution_count": null,
   "id": "7563eea1-a3c0-4008-a763-319dac08ee16",
   "metadata": {},
   "outputs": [],
   "source": []
  }
 ],
 "metadata": {
  "kernelspec": {
   "display_name": "Python 3",
   "language": "python",
   "name": "python3"
  },
  "language_info": {
   "codemirror_mode": {
    "name": "ipython",
    "version": 3
   },
   "file_extension": ".py",
   "mimetype": "text/x-python",
   "name": "python",
   "nbconvert_exporter": "python",
   "pygments_lexer": "ipython3",
   "version": "3.8.8"
  }
 },
 "nbformat": 4,
 "nbformat_minor": 5
}
